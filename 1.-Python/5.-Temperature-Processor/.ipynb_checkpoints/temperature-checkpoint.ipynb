{
 "cells": [
  {
   "cell_type": "markdown",
   "metadata": {},
   "source": [
    "<img src=\"https://bit.ly/2VnXWr2\" width=\"100\" align=\"left\">"
   ]
  },
  {
   "cell_type": "markdown",
   "metadata": {},
   "source": [
    "# Temperature Sensor\n",
    "\n",
    "There is a temperature sensor in the processor of your company's server. The company wants to analyze the data provided by the sensor to decide if they should change the cooling system for a better one. As changing the cooling system is expensive and you are an excellent data analyst, you can't make a decision without basis.\n",
    "\n",
    "## Tools\n",
    "You don't necessarily need to use all the tools. Maybe you opt to use some of them or completely different ones, they are given to help you shape the exercise. Programming exercises can be solved in many different ways.\n",
    "1. Data structures: **lists**\n",
    "2. Loops: **list comprehension**\n",
    "3. Functions: **min, max, print, len**\n",
    "4. Conditional statements: **if-elif-else**\n",
    "\n",
    "## Tasks\n",
    "The temperatures measured throughout the 24 hours of a day are:"
   ]
  },
  {
   "cell_type": "code",
   "execution_count": 41,
   "metadata": {},
   "outputs": [],
   "source": [
    "temperatures_C = [33, 66, 65, 0, 59, 60, 62, 64, 70, 76, 80, 81, 80, 83, 90, 79, 61, 53, 50, 49, 53, 48, 45, 39]"
   ]
  },
  {
   "cell_type": "markdown",
   "metadata": {},
   "source": [
    "The first element of the list is the temperature at 12am, the second element is the temperature at 1am, and so on. \n",
    "\n",
    "The company has decided that if one of the following events occurs, then the cooling system needs to be replaced for a new one to avoid damaging the processor.\n",
    "* More than 4 temperatures are greater than or equal to 70ºC.\n",
    "* Any temperature is above 80ºC.\n",
    "* The average temperature exceeds 65ºC.\n",
    "\n",
    "Follow the steps so that you can make the decision.\n",
    "\n",
    "#### 1. Find the minimum temperature of the day and store it in a variable."
   ]
  },
  {
   "cell_type": "code",
   "execution_count": 42,
   "metadata": {},
   "outputs": [],
   "source": [
    "min_temp = min(temperatures_C)"
   ]
  },
  {
   "cell_type": "markdown",
   "metadata": {},
   "source": [
    "#### 2. Find the maximum temperature of the day and store it in a variable."
   ]
  },
  {
   "cell_type": "code",
   "execution_count": 43,
   "metadata": {},
   "outputs": [],
   "source": [
    "max_temp = max(temperatures_C)"
   ]
  },
  {
   "cell_type": "markdown",
   "metadata": {},
   "source": [
    "#### 3. Create a list with the temperatures that are greater than or equal to 70ºC. Store it in a variable."
   ]
  },
  {
   "cell_type": "code",
   "execution_count": 44,
   "metadata": {},
   "outputs": [],
   "source": [
    "temperatures_over_70 = []\n",
    "for i in range(len(temperatures_C)):\n",
    "    if temperatures_C[i] >= 70:\n",
    "        temperatures_over_70.append(temperatures_C[i])\n",
    "    else: pass\n",
    "    i += 1"
   ]
  },
  {
   "cell_type": "markdown",
   "metadata": {},
   "source": [
    "#### 4. Find the average temperature of the day and store it in a variable."
   ]
  },
  {
   "cell_type": "code",
   "execution_count": 45,
   "metadata": {},
   "outputs": [],
   "source": [
    "avg_temp = sum(temperatures_C) / len(temperatures_C)"
   ]
  },
  {
   "cell_type": "markdown",
   "metadata": {},
   "source": [
    "#### 5. Imagine that there was a sensor failure at 3am and the data for that specific hour was not recorded. How would you estimate the missing value? Replace the current value of the list at 3am for an estimation. "
   ]
  },
  {
   "cell_type": "code",
   "execution_count": 46,
   "metadata": {},
   "outputs": [],
   "source": [
    "\"\"\"The missing value at 3am, i.e. temperatures_C[3] could be estimated as:\n",
    "a point on a linear function between temperatures_C[2] and temperatures_C[4]\n",
    "The slope of this linear function would be equal to: (temperatures_C[4] - temperatures_C[2]) / (4 - 2)\n",
    "The intercept of this linear functin would be equal to: temperatures_C[0]\n",
    "\"\"\"\n",
    "# Calculating the slope of the linear function between temperatures_C[2] and temperatures_C[4]:\n",
    "slope = (temperatures_C[4] - temperatures_C[2]) / (4 - 2)\n",
    "\n",
    "# A way of calculating the estimated temperature at 3am could be by determining first the intercept of the linear function :\n",
    "intercept = temperatures_C[2] - slope * (2-0)\n",
    "estimated_temp_3am = int(slope * 3 + intercept)\n",
    "\n",
    "# Replacing the current value of the list at 3am for an estimation\n",
    "for i in range(len(temperatures_C)):\n",
    "    if i == 3:\n",
    "        temperatures_C[i] = estimated_temp_3am\n",
    "    else: pass\n",
    "    i += 1\n"
   ]
  },
  {
   "cell_type": "markdown",
   "metadata": {},
   "source": [
    "#### 6. Bonus: the maintenance staff is from the United States and does not understand the international metric system. Help them by converting the temperatures from Celsius to Fahrenheit.\n",
    "To know more about temperature conversion check this [link](https://en.wikipedia.org/wiki/Conversion_of_units_of_temperature).\n",
    "\n",
    "**Formula**: \n",
    "\n",
    "$F = 1.8 * C + 32$"
   ]
  },
  {
   "cell_type": "code",
   "execution_count": 65,
   "metadata": {},
   "outputs": [],
   "source": [
    "temperatures_F = []\n",
    "for i in range(len(temperatures_C)):\n",
    "    temperatures_F.append(1.8 * temperatures_C[i] + 32)\n",
    "    i +=1"
   ]
  },
  {
   "cell_type": "markdown",
   "metadata": {},
   "source": [
    "#### 7. Make a decision!\n",
    "Now it's time to make a decision taking into account what you have seen until now. \n",
    "\n",
    "Remember that if one of the following events occurs, then the cooling system needs to be replaced for a new one to avoid damaging the processor.\n",
    "* More than 4 temperatures are greater than or equal to 70ºC.\n",
    "* Any temperature is above 80ºC.\n",
    "* The average temperature exceeds 65ºC.\n",
    "\n",
    "#### To make your decision, check if any of the three conditions above is met. You might need to use some of the variables you created in steps 1 to 6. Print a message to show if the cooling system needs to be changed or not."
   ]
  },
  {
   "cell_type": "code",
   "execution_count": 66,
   "metadata": {},
   "outputs": [
    {
     "name": "stdout",
     "output_type": "stream",
     "text": [
      "The cooling system needs to be replaced\n"
     ]
    }
   ],
   "source": [
    "if len(temperatures_over_70) > 4:\n",
    "    print(\"The cooling system needs to be replaced\")\n",
    "elif max_temp > 80:\n",
    "    print(\"The cooling system needs to be replaced\")\n",
    "elif avg_temp > 65:\n",
    "    print(\"The cooling system needs to be replaced\")\n",
    "else: print(\"The cooling system does not need to be replaced\")\n"
   ]
  },
  {
   "cell_type": "markdown",
   "metadata": {},
   "source": [
    "## Bonus\n",
    "\n",
    "The company has decided that the decision you made is not valid. They want you to analyze the data again but this time, the conditions that need to be met in order to change the cooling system are different.\n",
    "\n",
    "This time, if one of the following events occurs, then the cooling system needs to be replaced:\n",
    "* The temperature is greater than 70ºC during more than 4 consecutive hours.\n",
    "* Any temperature is above 80ºC.\n",
    "* The average temperature exceeds 65ºC.\n",
    "\n",
    "Follow the steps so that you can make the decision.\n",
    "\n",
    "#### 1. Create a list with the hours where the temperature is greater than 70ºC. Store it in a variable."
   ]
  },
  {
   "cell_type": "code",
   "execution_count": 71,
   "metadata": {},
   "outputs": [
    {
     "name": "stdout",
     "output_type": "stream",
     "text": [
      "[8, 9, 10, 11, 12, 13, 14, 15] is the list with the hours where the temperature is greater than 70ºC\n"
     ]
    }
   ],
   "source": [
    "hours_temperatures_over_70 = []\n",
    "for i in range(len(temperatures_C)):\n",
    "    if temperatures_C[i] >= 70:\n",
    "        hours_temperatures_over_70.append(i)\n",
    "    else: pass\n",
    "    i += 1\n",
    "print(hours_temperatures_over_70, \"is the list with the hours where the temperature is greater than 70ºC\")\n",
    "    "
   ]
  },
  {
   "cell_type": "markdown",
   "metadata": {},
   "source": [
    "#### 2. Check if the list you created in step 1 has more than 4 consecutive hours. "
   ]
  },
  {
   "cell_type": "code",
   "execution_count": 68,
   "metadata": {},
   "outputs": [
    {
     "name": "stdout",
     "output_type": "stream",
     "text": [
      "The temperature is greater than 70ºC during more than 4 consecutive hours.\n"
     ]
    }
   ],
   "source": [
    "count_consecutives_temps_over_70 = 0\n",
    "for i in range(len(hours_temperatures_over_70)):\n",
    "    if hours_temperatures_over_70[i + 1] == hours_temperatures_over_70[i] + 1:\n",
    "        count_consecutives_temps_over_70 += 1\n",
    "    else: pass\n",
    "    if count_consecutives_temps_over_70 > 4:\n",
    "        print(\"The temperature is greater than 70ºC during more than 4 consecutive hours.\")\n",
    "        break\n",
    "    else: pass\n",
    "    i += 1"
   ]
  },
  {
   "cell_type": "markdown",
   "metadata": {},
   "source": [
    "#### 3. Make the decision!\n",
    "To make your decision, check if any of the three conditions is met. Print a message to show if the cooling system needs to be changed or not."
   ]
  },
  {
   "cell_type": "code",
   "execution_count": 69,
   "metadata": {},
   "outputs": [
    {
     "name": "stdout",
     "output_type": "stream",
     "text": [
      "The cooling system needs to be replaced\n"
     ]
    }
   ],
   "source": [
    "if count_consecutives_temps_over_70 > 4:\n",
    "    print(\"The cooling system needs to be replaced\")\n",
    "elif max_temp > 80:\n",
    "    print(\"The cooling system needs to be replaced\")\n",
    "elif avg_temp > 65:\n",
    "    print(\"The cooling system needs to be replaced\")\n",
    "else: print(\"The cooling system does not need to be replaced\")\n"
   ]
  },
  {
   "cell_type": "markdown",
   "metadata": {},
   "source": [
    "#### 4. Find the average value of the temperature lists (ºC and ºF). What is the relation between both average values?"
   ]
  },
  {
   "cell_type": "code",
   "execution_count": 70,
   "metadata": {},
   "outputs": [
    {
     "name": "stdout",
     "output_type": "stream",
     "text": [
      "The average value of the temperatures is: 62.833333333333336 °C\n",
      "The average value of the temperatures is: 145.1 °F\n",
      "The relation between both values is: 𝐹=1.8∗𝐶+32\n"
     ]
    }
   ],
   "source": [
    "avg_temp_C = sum(temperatures_C) / len(temperatures_C)\n",
    "avg_temp_F = sum(temperatures_F) / len(temperatures_F)\n",
    "\n",
    "print(\"The average value of the temperatures is:\", avg_temp_C, \"°C\")\n",
    "print(\"The average value of the temperatures is:\", avg_temp_F, \"°F\")\n",
    "print(\"The relation between both values is: 𝐹=1.8∗𝐶+32\")"
   ]
  },
  {
   "cell_type": "markdown",
   "metadata": {},
   "source": [
    "#### 5. Find the standard deviation of the temperature lists (ºC and ºF). What is the relation between both standard deviations?"
   ]
  },
  {
   "cell_type": "code",
   "execution_count": 75,
   "metadata": {},
   "outputs": [
    {
     "name": "stdout",
     "output_type": "stream",
     "text": [
      "The standard deviation for the temperatures in °C is: 14.94821980579356\n",
      "The standard deviation for the temperatures in °F is: 26.906795650428407\n",
      "The relation between both values is: Standard Deviation Temperatures in °F = 1.8∗Standard Deviation Temperatures in °C\n"
     ]
    }
   ],
   "source": [
    "import math\n",
    "sum_sqr_diff_temp_C = 0\n",
    "sum_sqr_diff_temp_F = 0\n",
    "for i in range(len(temperatures_C)):\n",
    "    sum_sqr_diff_temp_C += (temperatures_C[i] - avg_temp_C) ** 2\n",
    "    sum_sqr_diff_temp_F += (temperatures_F[i] - avg_temp_F) ** 2\n",
    "std_deviation_temp_C = math.sqrt(sum_sqr_diff_temp_C /(len(temperatures_C) - 1))\n",
    "std_deviation_temp_F = math.sqrt(sum_sqr_diff_temp_F /(len(temperatures_F) - 1))\n",
    "print(\"The standard deviation for the temperatures in °C is:\", std_deviation_temp_C)\n",
    "print(\"The standard deviation for the temperatures in °F is:\", std_deviation_temp_F)\n",
    "print(\"The relation between both values is: Standard Deviation Temperatures in °F = 1.8∗Standard Deviation Temperatures in °C\")"
   ]
  },
  {
   "cell_type": "code",
   "execution_count": null,
   "metadata": {},
   "outputs": [],
   "source": []
  }
 ],
 "metadata": {
  "kernelspec": {
   "display_name": "Python 3",
   "language": "python",
   "name": "python3"
  },
  "language_info": {
   "codemirror_mode": {
    "name": "ipython",
    "version": 3
   },
   "file_extension": ".py",
   "mimetype": "text/x-python",
   "name": "python",
   "nbconvert_exporter": "python",
   "pygments_lexer": "ipython3",
   "version": "3.7.6"
  }
 },
 "nbformat": 4,
 "nbformat_minor": 2
}
